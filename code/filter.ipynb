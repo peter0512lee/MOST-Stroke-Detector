{
 "metadata": {
  "language_info": {
   "codemirror_mode": {
    "name": "ipython",
    "version": 3
   },
   "file_extension": ".py",
   "mimetype": "text/x-python",
   "name": "python",
   "nbconvert_exporter": "python",
   "pygments_lexer": "ipython3",
   "version": "3.8.3-final"
  },
  "orig_nbformat": 2,
  "kernelspec": {
   "name": "python3",
   "display_name": "Python 3"
  }
 },
 "nbformat": 4,
 "nbformat_minor": 2,
 "cells": [
  {
   "cell_type": "code",
   "execution_count": 9,
   "metadata": {},
   "outputs": [],
   "source": [
    "import pandas as pd\n",
    "import numpy as np"
   ]
  },
  {
   "cell_type": "code",
   "execution_count": 10,
   "metadata": {},
   "outputs": [],
   "source": [
    "source_data = pd.read_csv(\"./MR_report.csv\")"
   ]
  },
  {
   "cell_type": "code",
   "execution_count": 11,
   "metadata": {},
   "outputs": [
    {
     "output_type": "execute_result",
     "data": {
      "text/plain": [
       "(1017, 14)"
      ]
     },
     "metadata": {},
     "execution_count": 11
    }
   ],
   "source": [
    "source_data.shape"
   ]
  },
  {
   "source": [
    "## I61 出血型中風\n",
    "## I63 缺血型中風"
   ],
   "cell_type": "markdown",
   "metadata": {}
  },
  {
   "cell_type": "code",
   "execution_count": 4,
   "metadata": {},
   "outputs": [],
   "source": [
    "source_data = source_data.drop(columns=['report_html', 'report_image', 'uploaded', 'history', 'finish_date', 'finish_time', 'upload_text', 'his2wkl_assign', 'PROC_FLAG', 'assign', 'CHECK1', 'VER1'])"
   ]
  },
  {
   "cell_type": "code",
   "execution_count": 5,
   "metadata": {},
   "outputs": [
    {
     "output_type": "execute_result",
     "data": {
      "text/plain": [
       "                                             report_uid  \\\n",
       "0     2019.1220.0002018266.380000004773.20200708.124...   \n",
       "1     2019.1220.0001542547.380000004799.20200710.094...   \n",
       "2     2019.1220.0000851482.380000004771.20200709.112...   \n",
       "3     2019.1220.0000822297.380000004795.20200709.081...   \n",
       "4     2019.1220.0000486976.380000004794.20200708.114...   \n",
       "...                                                 ...   \n",
       "1012  2019.1220.0001452883.380000006187.20201002.110...   \n",
       "1013  2019.1220.0000897637.380000006173.20201002.134...   \n",
       "1014  2019.1220.0000020158.380000006099.20200928.125...   \n",
       "1015  2019.1220.0000684281.380000006139.20200930.151...   \n",
       "1016  2019.1220.0000577315.380000005923.20200930.081...   \n",
       "\n",
       "                                            report_text  \n",
       "0     衛生福利部臺北醫院放射診斷科  MR報告\\r\\n病歷號碼 : 0002018266     ...  \n",
       "1     衛生福利部臺北醫院放射診斷科  MR報告\\r\\n病歷號碼 : 0001542547     ...  \n",
       "2     衛生福利部臺北醫院放射診斷科  MR報告\\r\\n病歷號碼 : 0000851482     ...  \n",
       "3     衛生福利部臺北醫院放射診斷科  MR報告\\r\\n病歷號碼 : 0000822297     ...  \n",
       "4     衛生福利部臺北醫院放射診斷科  MR報告\\r\\n病歷號碼 : 0000486976     ...  \n",
       "...                                                 ...  \n",
       "1012  衛生福利部臺北醫院放射診斷科  MR報告\\r\\n病歷號碼 : 0001452883     ...  \n",
       "1013  衛生福利部臺北醫院放射診斷科  MR報告\\r\\n病歷號碼 : 0000897637     ...  \n",
       "1014  衛生福利部臺北醫院放射診斷科  MR報告\\r\\n病歷號碼 : 0000020158     ...  \n",
       "1015  衛生福利部臺北醫院放射診斷科  MR報告\\r\\n病歷號碼 : 0000684281     ...  \n",
       "1016  衛生福利部臺北醫院放射診斷科  MR報告\\r\\n病歷號碼 : 0000577315     ...  \n",
       "\n",
       "[1017 rows x 2 columns]"
      ],
      "text/html": "<div>\n<style scoped>\n    .dataframe tbody tr th:only-of-type {\n        vertical-align: middle;\n    }\n\n    .dataframe tbody tr th {\n        vertical-align: top;\n    }\n\n    .dataframe thead th {\n        text-align: right;\n    }\n</style>\n<table border=\"1\" class=\"dataframe\">\n  <thead>\n    <tr style=\"text-align: right;\">\n      <th></th>\n      <th>report_uid</th>\n      <th>report_text</th>\n    </tr>\n  </thead>\n  <tbody>\n    <tr>\n      <th>0</th>\n      <td>2019.1220.0002018266.380000004773.20200708.124...</td>\n      <td>衛生福利部臺北醫院放射診斷科  MR報告\\r\\n病歷號碼 : 0002018266     ...</td>\n    </tr>\n    <tr>\n      <th>1</th>\n      <td>2019.1220.0001542547.380000004799.20200710.094...</td>\n      <td>衛生福利部臺北醫院放射診斷科  MR報告\\r\\n病歷號碼 : 0001542547     ...</td>\n    </tr>\n    <tr>\n      <th>2</th>\n      <td>2019.1220.0000851482.380000004771.20200709.112...</td>\n      <td>衛生福利部臺北醫院放射診斷科  MR報告\\r\\n病歷號碼 : 0000851482     ...</td>\n    </tr>\n    <tr>\n      <th>3</th>\n      <td>2019.1220.0000822297.380000004795.20200709.081...</td>\n      <td>衛生福利部臺北醫院放射診斷科  MR報告\\r\\n病歷號碼 : 0000822297     ...</td>\n    </tr>\n    <tr>\n      <th>4</th>\n      <td>2019.1220.0000486976.380000004794.20200708.114...</td>\n      <td>衛生福利部臺北醫院放射診斷科  MR報告\\r\\n病歷號碼 : 0000486976     ...</td>\n    </tr>\n    <tr>\n      <th>...</th>\n      <td>...</td>\n      <td>...</td>\n    </tr>\n    <tr>\n      <th>1012</th>\n      <td>2019.1220.0001452883.380000006187.20201002.110...</td>\n      <td>衛生福利部臺北醫院放射診斷科  MR報告\\r\\n病歷號碼 : 0001452883     ...</td>\n    </tr>\n    <tr>\n      <th>1013</th>\n      <td>2019.1220.0000897637.380000006173.20201002.134...</td>\n      <td>衛生福利部臺北醫院放射診斷科  MR報告\\r\\n病歷號碼 : 0000897637     ...</td>\n    </tr>\n    <tr>\n      <th>1014</th>\n      <td>2019.1220.0000020158.380000006099.20200928.125...</td>\n      <td>衛生福利部臺北醫院放射診斷科  MR報告\\r\\n病歷號碼 : 0000020158     ...</td>\n    </tr>\n    <tr>\n      <th>1015</th>\n      <td>2019.1220.0000684281.380000006139.20200930.151...</td>\n      <td>衛生福利部臺北醫院放射診斷科  MR報告\\r\\n病歷號碼 : 0000684281     ...</td>\n    </tr>\n    <tr>\n      <th>1016</th>\n      <td>2019.1220.0000577315.380000005923.20200930.081...</td>\n      <td>衛生福利部臺北醫院放射診斷科  MR報告\\r\\n病歷號碼 : 0000577315     ...</td>\n    </tr>\n  </tbody>\n</table>\n<p>1017 rows × 2 columns</p>\n</div>"
     },
     "metadata": {},
     "execution_count": 5
    }
   ],
   "source": [
    "source_data"
   ]
  },
  {
   "cell_type": "code",
   "execution_count": 6,
   "metadata": {},
   "outputs": [],
   "source": [
    "source_data['report_uid'] = source_data['report_uid'].str[21:33]"
   ]
  },
  {
   "cell_type": "code",
   "execution_count": 7,
   "metadata": {},
   "outputs": [
    {
     "output_type": "execute_result",
     "data": {
      "text/plain": [
       "        report_uid                                        report_text ICD\n",
       "0     380000004773  衛生福利部臺北醫院放射診斷科  MR報告\\r\\n病歷號碼 : 0002018266     ...    \n",
       "1     380000004799  衛生福利部臺北醫院放射診斷科  MR報告\\r\\n病歷號碼 : 0001542547     ...    \n",
       "2     380000004771  衛生福利部臺北醫院放射診斷科  MR報告\\r\\n病歷號碼 : 0000851482     ...    \n",
       "3     380000004795  衛生福利部臺北醫院放射診斷科  MR報告\\r\\n病歷號碼 : 0000822297     ...    \n",
       "4     380000004794  衛生福利部臺北醫院放射診斷科  MR報告\\r\\n病歷號碼 : 0000486976     ...    \n",
       "...            ...                                                ...  ..\n",
       "1012  380000006187  衛生福利部臺北醫院放射診斷科  MR報告\\r\\n病歷號碼 : 0001452883     ...    \n",
       "1013  380000006173  衛生福利部臺北醫院放射診斷科  MR報告\\r\\n病歷號碼 : 0000897637     ...    \n",
       "1014  380000006099  衛生福利部臺北醫院放射診斷科  MR報告\\r\\n病歷號碼 : 0000020158     ...    \n",
       "1015  380000006139  衛生福利部臺北醫院放射診斷科  MR報告\\r\\n病歷號碼 : 0000684281     ...    \n",
       "1016  380000005923  衛生福利部臺北醫院放射診斷科  MR報告\\r\\n病歷號碼 : 0000577315     ...    \n",
       "\n",
       "[1017 rows x 3 columns]"
      ],
      "text/html": "<div>\n<style scoped>\n    .dataframe tbody tr th:only-of-type {\n        vertical-align: middle;\n    }\n\n    .dataframe tbody tr th {\n        vertical-align: top;\n    }\n\n    .dataframe thead th {\n        text-align: right;\n    }\n</style>\n<table border=\"1\" class=\"dataframe\">\n  <thead>\n    <tr style=\"text-align: right;\">\n      <th></th>\n      <th>report_uid</th>\n      <th>report_text</th>\n      <th>ICD</th>\n    </tr>\n  </thead>\n  <tbody>\n    <tr>\n      <th>0</th>\n      <td>380000004773</td>\n      <td>衛生福利部臺北醫院放射診斷科  MR報告\\r\\n病歷號碼 : 0002018266     ...</td>\n      <td></td>\n    </tr>\n    <tr>\n      <th>1</th>\n      <td>380000004799</td>\n      <td>衛生福利部臺北醫院放射診斷科  MR報告\\r\\n病歷號碼 : 0001542547     ...</td>\n      <td></td>\n    </tr>\n    <tr>\n      <th>2</th>\n      <td>380000004771</td>\n      <td>衛生福利部臺北醫院放射診斷科  MR報告\\r\\n病歷號碼 : 0000851482     ...</td>\n      <td></td>\n    </tr>\n    <tr>\n      <th>3</th>\n      <td>380000004795</td>\n      <td>衛生福利部臺北醫院放射診斷科  MR報告\\r\\n病歷號碼 : 0000822297     ...</td>\n      <td></td>\n    </tr>\n    <tr>\n      <th>4</th>\n      <td>380000004794</td>\n      <td>衛生福利部臺北醫院放射診斷科  MR報告\\r\\n病歷號碼 : 0000486976     ...</td>\n      <td></td>\n    </tr>\n    <tr>\n      <th>...</th>\n      <td>...</td>\n      <td>...</td>\n      <td>...</td>\n    </tr>\n    <tr>\n      <th>1012</th>\n      <td>380000006187</td>\n      <td>衛生福利部臺北醫院放射診斷科  MR報告\\r\\n病歷號碼 : 0001452883     ...</td>\n      <td></td>\n    </tr>\n    <tr>\n      <th>1013</th>\n      <td>380000006173</td>\n      <td>衛生福利部臺北醫院放射診斷科  MR報告\\r\\n病歷號碼 : 0000897637     ...</td>\n      <td></td>\n    </tr>\n    <tr>\n      <th>1014</th>\n      <td>380000006099</td>\n      <td>衛生福利部臺北醫院放射診斷科  MR報告\\r\\n病歷號碼 : 0000020158     ...</td>\n      <td></td>\n    </tr>\n    <tr>\n      <th>1015</th>\n      <td>380000006139</td>\n      <td>衛生福利部臺北醫院放射診斷科  MR報告\\r\\n病歷號碼 : 0000684281     ...</td>\n      <td></td>\n    </tr>\n    <tr>\n      <th>1016</th>\n      <td>380000005923</td>\n      <td>衛生福利部臺北醫院放射診斷科  MR報告\\r\\n病歷號碼 : 0000577315     ...</td>\n      <td></td>\n    </tr>\n  </tbody>\n</table>\n<p>1017 rows × 3 columns</p>\n</div>"
     },
     "metadata": {},
     "execution_count": 7
    }
   ],
   "source": [
    "source_data['ICD'] = \"\"\n",
    "source_data"
   ]
  },
  {
   "cell_type": "code",
   "execution_count": 70,
   "metadata": {},
   "outputs": [
    {
     "output_type": "stream",
     "name": "stdout",
     "text": [
      "143    0000584571\n183    0000686628\n520    0002011879\n565    0002012953\n640    0001688266\n934    0002024689\nName: report_text, dtype: object\n"
     ]
    }
   ],
   "source": [
    "containI61 = source_data[source_data[\"report_text\"].str.contains('I61')]\n",
    "print(containI61['report_text'].str[29:39])"
   ]
  },
  {
   "cell_type": "code",
   "execution_count": 61,
   "metadata": {},
   "outputs": [],
   "source": [
    "source_data = source_data.drop(columns=['report_text'])"
   ]
  },
  {
   "cell_type": "code",
   "execution_count": 72,
   "metadata": {},
   "outputs": [
    {
     "output_type": "execute_result",
     "data": {
      "text/plain": [
       "Empty DataFrame\n",
       "Columns: [report_uid, report_text, ICD]\n",
       "Index: []"
      ],
      "text/html": "<div>\n<style scoped>\n    .dataframe tbody tr th:only-of-type {\n        vertical-align: middle;\n    }\n\n    .dataframe tbody tr th {\n        vertical-align: top;\n    }\n\n    .dataframe thead th {\n        text-align: right;\n    }\n</style>\n<table border=\"1\" class=\"dataframe\">\n  <thead>\n    <tr style=\"text-align: right;\">\n      <th></th>\n      <th>report_uid</th>\n      <th>report_text</th>\n      <th>ICD</th>\n    </tr>\n  </thead>\n  <tbody>\n  </tbody>\n</table>\n</div>"
     },
     "metadata": {},
     "execution_count": 72
    }
   ],
   "source": [
    "source_data[source_data['ICD'] == 'I63']"
   ]
  },
  {
   "cell_type": "code",
   "execution_count": 90,
   "metadata": {},
   "outputs": [
    {
     "output_type": "execute_result",
     "data": {
      "text/plain": [
       "Empty DataFrame\n",
       "Columns: [report_uid, ICD]\n",
       "Index: []"
      ],
      "text/html": "<div>\n<style scoped>\n    .dataframe tbody tr th:only-of-type {\n        vertical-align: middle;\n    }\n\n    .dataframe tbody tr th {\n        vertical-align: top;\n    }\n\n    .dataframe thead th {\n        text-align: right;\n    }\n</style>\n<table border=\"1\" class=\"dataframe\">\n  <thead>\n    <tr style=\"text-align: right;\">\n      <th></th>\n      <th>report_uid</th>\n      <th>ICD</th>\n    </tr>\n  </thead>\n  <tbody>\n  </tbody>\n</table>\n</div>"
     },
     "metadata": {},
     "execution_count": 90
    }
   ],
   "source": [
    "dataI60 = source_data[['I60' in x for x in source_data['report_text']]]\n",
    "dataI60['ICD'] = 'I60'\n",
    "dataI60 = dataI60.drop(columns=['report_text'])\n",
    "dataI60"
   ]
  },
  {
   "cell_type": "code",
   "execution_count": 92,
   "metadata": {},
   "outputs": [
    {
     "output_type": "execute_result",
     "data": {
      "text/plain": [
       "       report_uid  ICD\n",
       "143  380000004358  I61\n",
       "183  380000002302  I61\n",
       "520  380000003403  I61\n",
       "565  380000003529  I61\n",
       "640  380000003724  I61\n",
       "934  380000005736  I61"
      ],
      "text/html": "<div>\n<style scoped>\n    .dataframe tbody tr th:only-of-type {\n        vertical-align: middle;\n    }\n\n    .dataframe tbody tr th {\n        vertical-align: top;\n    }\n\n    .dataframe thead th {\n        text-align: right;\n    }\n</style>\n<table border=\"1\" class=\"dataframe\">\n  <thead>\n    <tr style=\"text-align: right;\">\n      <th></th>\n      <th>report_uid</th>\n      <th>ICD</th>\n    </tr>\n  </thead>\n  <tbody>\n    <tr>\n      <th>143</th>\n      <td>380000004358</td>\n      <td>I61</td>\n    </tr>\n    <tr>\n      <th>183</th>\n      <td>380000002302</td>\n      <td>I61</td>\n    </tr>\n    <tr>\n      <th>520</th>\n      <td>380000003403</td>\n      <td>I61</td>\n    </tr>\n    <tr>\n      <th>565</th>\n      <td>380000003529</td>\n      <td>I61</td>\n    </tr>\n    <tr>\n      <th>640</th>\n      <td>380000003724</td>\n      <td>I61</td>\n    </tr>\n    <tr>\n      <th>934</th>\n      <td>380000005736</td>\n      <td>I61</td>\n    </tr>\n  </tbody>\n</table>\n</div>"
     },
     "metadata": {},
     "execution_count": 92
    }
   ],
   "source": [
    "dataI61 = source_data[['I61' in x for x in source_data['report_text']]]\n",
    "dataI61['ICD'] = 'I61'\n",
    "dataI61 = dataI61.drop(columns=['report_text'])\n",
    "dataI61"
   ]
  },
  {
   "cell_type": "code",
   "execution_count": 103,
   "metadata": {
    "tags": []
   },
   "outputs": [
    {
     "output_type": "stream",
     "name": "stdout",
     "text": [
      "report_uid\nreport_text\nICD\n"
     ]
    }
   ],
   "source": [
    "for x in source_data :\n",
    "    print(x)"
   ]
  },
  {
   "cell_type": "code",
   "execution_count": 129,
   "metadata": {},
   "outputs": [
    {
     "output_type": "execute_result",
     "data": {
      "text/plain": [
       "        report_uid                                        report_text  ICD\n",
       "1     380000004799  衛生福利部臺北醫院放射診斷科  MR報告\\r\\n病歷號碼 : 0001542547     ...  I61\n",
       "2     380000004771  衛生福利部臺北醫院放射診斷科  MR報告\\r\\n病歷號碼 : 0000851482     ...  I61\n",
       "3     380000004795  衛生福利部臺北醫院放射診斷科  MR報告\\r\\n病歷號碼 : 0000822297     ...  I61\n",
       "4     380000004794  衛生福利部臺北醫院放射診斷科  MR報告\\r\\n病歷號碼 : 0000486976     ...  I61\n",
       "5     380000004772  衛生福利部臺北醫院放射診斷科  MR報告\\r\\n病歷號碼 : 0000614143     ...  I61\n",
       "...            ...                                                ...  ...\n",
       "1012  380000006187  衛生福利部臺北醫院放射診斷科  MR報告\\r\\n病歷號碼 : 0001452883     ...  I61\n",
       "1013  380000006173  衛生福利部臺北醫院放射診斷科  MR報告\\r\\n病歷號碼 : 0000897637     ...  I61\n",
       "1014  380000006099  衛生福利部臺北醫院放射診斷科  MR報告\\r\\n病歷號碼 : 0000020158     ...  I61\n",
       "1015  380000006139  衛生福利部臺北醫院放射診斷科  MR報告\\r\\n病歷號碼 : 0000684281     ...  I61\n",
       "1016  380000005923  衛生福利部臺北醫院放射診斷科  MR報告\\r\\n病歷號碼 : 0000577315     ...  I61\n",
       "\n",
       "[1016 rows x 3 columns]"
      ],
      "text/html": "<div>\n<style scoped>\n    .dataframe tbody tr th:only-of-type {\n        vertical-align: middle;\n    }\n\n    .dataframe tbody tr th {\n        vertical-align: top;\n    }\n\n    .dataframe thead th {\n        text-align: right;\n    }\n</style>\n<table border=\"1\" class=\"dataframe\">\n  <thead>\n    <tr style=\"text-align: right;\">\n      <th></th>\n      <th>report_uid</th>\n      <th>report_text</th>\n      <th>ICD</th>\n    </tr>\n  </thead>\n  <tbody>\n    <tr>\n      <th>1</th>\n      <td>380000004799</td>\n      <td>衛生福利部臺北醫院放射診斷科  MR報告\\r\\n病歷號碼 : 0001542547     ...</td>\n      <td>I61</td>\n    </tr>\n    <tr>\n      <th>2</th>\n      <td>380000004771</td>\n      <td>衛生福利部臺北醫院放射診斷科  MR報告\\r\\n病歷號碼 : 0000851482     ...</td>\n      <td>I61</td>\n    </tr>\n    <tr>\n      <th>3</th>\n      <td>380000004795</td>\n      <td>衛生福利部臺北醫院放射診斷科  MR報告\\r\\n病歷號碼 : 0000822297     ...</td>\n      <td>I61</td>\n    </tr>\n    <tr>\n      <th>4</th>\n      <td>380000004794</td>\n      <td>衛生福利部臺北醫院放射診斷科  MR報告\\r\\n病歷號碼 : 0000486976     ...</td>\n      <td>I61</td>\n    </tr>\n    <tr>\n      <th>5</th>\n      <td>380000004772</td>\n      <td>衛生福利部臺北醫院放射診斷科  MR報告\\r\\n病歷號碼 : 0000614143     ...</td>\n      <td>I61</td>\n    </tr>\n    <tr>\n      <th>...</th>\n      <td>...</td>\n      <td>...</td>\n      <td>...</td>\n    </tr>\n    <tr>\n      <th>1012</th>\n      <td>380000006187</td>\n      <td>衛生福利部臺北醫院放射診斷科  MR報告\\r\\n病歷號碼 : 0001452883     ...</td>\n      <td>I61</td>\n    </tr>\n    <tr>\n      <th>1013</th>\n      <td>380000006173</td>\n      <td>衛生福利部臺北醫院放射診斷科  MR報告\\r\\n病歷號碼 : 0000897637     ...</td>\n      <td>I61</td>\n    </tr>\n    <tr>\n      <th>1014</th>\n      <td>380000006099</td>\n      <td>衛生福利部臺北醫院放射診斷科  MR報告\\r\\n病歷號碼 : 0000020158     ...</td>\n      <td>I61</td>\n    </tr>\n    <tr>\n      <th>1015</th>\n      <td>380000006139</td>\n      <td>衛生福利部臺北醫院放射診斷科  MR報告\\r\\n病歷號碼 : 0000684281     ...</td>\n      <td>I61</td>\n    </tr>\n    <tr>\n      <th>1016</th>\n      <td>380000005923</td>\n      <td>衛生福利部臺北醫院放射診斷科  MR報告\\r\\n病歷號碼 : 0000577315     ...</td>\n      <td>I61</td>\n    </tr>\n  </tbody>\n</table>\n<p>1016 rows × 3 columns</p>\n</div>"
     },
     "metadata": {},
     "execution_count": 129
    }
   ],
   "source": [
    "source_data[source_data['ICD'] == 'I61']"
   ]
  },
  {
   "cell_type": "code",
   "execution_count": 142,
   "metadata": {
    "tags": []
   },
   "outputs": [
    {
     "output_type": "stream",
     "name": "stdout",
     "text": [
      "1\n",
      "4\n",
      "6\n",
      "21\n",
      "22\n",
      "24\n",
      "25\n",
      "27\n",
      "29\n",
      "30\n",
      "32\n",
      "41\n",
      "55\n",
      "57\n",
      "58\n",
      "60\n",
      "61\n",
      "63\n",
      "72\n",
      "73\n",
      "75\n",
      "76\n",
      "82\n",
      "88\n",
      "90\n",
      "99\n",
      "100\n",
      "105\n",
      "109\n",
      "110\n",
      "111\n",
      "116\n",
      "117\n",
      "126\n",
      "129\n",
      "130\n",
      "136\n",
      "139\n",
      "142\n",
      "143\n",
      "149\n",
      "150\n",
      "151\n",
      "152\n",
      "153\n",
      "156\n",
      "157\n",
      "169\n",
      "170\n",
      "175\n",
      "178\n",
      "183\n",
      "187\n",
      "189\n",
      "191\n",
      "192\n",
      "201\n",
      "202\n",
      "206\n",
      "207\n",
      "210\n",
      "213\n",
      "219\n",
      "221\n",
      "224\n",
      "225\n",
      "229\n",
      "230\n",
      "235\n",
      "237\n",
      "238\n",
      "239\n",
      "240\n",
      "243\n",
      "247\n",
      "248\n",
      "249\n",
      "251\n",
      "252\n",
      "253\n",
      "256\n",
      "262\n",
      "266\n",
      "267\n",
      "269\n",
      "280\n",
      "281\n",
      "283\n",
      "285\n",
      "286\n",
      "289\n",
      "291\n",
      "292\n",
      "293\n",
      "294\n",
      "297\n",
      "299\n",
      "303\n",
      "306\n",
      "307\n",
      "310\n",
      "322\n",
      "326\n",
      "327\n",
      "331\n",
      "332\n",
      "335\n",
      "337\n",
      "339\n",
      "341\n",
      "342\n",
      "343\n",
      "344\n",
      "351\n",
      "353\n",
      "354\n",
      "355\n",
      "356\n",
      "363\n",
      "365\n",
      "379\n",
      "398\n",
      "405\n",
      "407\n",
      "416\n",
      "417\n",
      "418\n",
      "433\n",
      "434\n",
      "437\n",
      "444\n",
      "448\n",
      "449\n",
      "452\n",
      "453\n",
      "455\n",
      "459\n",
      "460\n",
      "465\n",
      "466\n",
      "467\n",
      "473\n",
      "476\n",
      "477\n",
      "478\n",
      "482\n",
      "487\n",
      "495\n",
      "496\n",
      "498\n",
      "500\n",
      "502\n",
      "506\n",
      "510\n",
      "511\n",
      "518\n",
      "519\n",
      "520\n",
      "524\n",
      "525\n",
      "526\n",
      "540\n",
      "543\n",
      "559\n",
      "560\n",
      "562\n",
      "564\n",
      "565\n",
      "567\n",
      "576\n",
      "582\n",
      "598\n",
      "599\n",
      "607\n",
      "613\n",
      "617\n",
      "621\n",
      "622\n",
      "631\n",
      "633\n",
      "634\n",
      "637\n",
      "640\n",
      "641\n",
      "642\n",
      "643\n",
      "646\n",
      "647\n",
      "655\n",
      "656\n",
      "658\n",
      "661\n",
      "667\n",
      "682\n",
      "688\n",
      "689\n",
      "692\n",
      "697\n",
      "704\n",
      "705\n",
      "709\n",
      "713\n",
      "714\n",
      "716\n",
      "717\n",
      "718\n",
      "721\n",
      "722\n",
      "728\n",
      "735\n",
      "738\n",
      "739\n",
      "747\n",
      "749\n",
      "754\n",
      "757\n",
      "762\n",
      "763\n",
      "769\n",
      "773\n",
      "775\n",
      "777\n",
      "779\n",
      "811\n",
      "813\n",
      "814\n",
      "817\n",
      "818\n",
      "820\n",
      "825\n",
      "828\n",
      "830\n",
      "835\n",
      "837\n",
      "838\n",
      "841\n",
      "845\n",
      "846\n",
      "853\n",
      "854\n",
      "856\n",
      "868\n",
      "881\n",
      "882\n",
      "884\n",
      "887\n",
      "889\n",
      "890\n",
      "892\n",
      "893\n",
      "894\n",
      "896\n",
      "897\n",
      "900\n",
      "901\n",
      "909\n",
      "910\n",
      "914\n",
      "920\n",
      "930\n",
      "934\n",
      "936\n",
      "940\n",
      "941\n",
      "943\n",
      "947\n",
      "948\n",
      "949\n",
      "971\n",
      "975\n",
      "977\n",
      "979\n",
      "983\n",
      "994\n",
      "995\n",
      "997\n",
      "1004\n",
      "1008\n",
      "1012\n"
     ]
    }
   ],
   "source": [
    "for index, row in source_data.iterrows():\n",
    "    if 'I61' in row['report_text']:\n",
    "        print(index)\n",
    "        source_data[\"ICD\"][index] = 'I61'\n",
    "    elif 'I62' in row['report_text']:\n",
    "        print(index)\n",
    "        source_data[\"ICD\"][index] = 'I62'\n",
    "    elif 'I63' in row['report_text']:\n",
    "        print(index)\n",
    "        source_data[\"ICD\"][index] = 'I63'\n",
    "    elif 'I64' in row['report_text']:\n",
    "        print(index)\n",
    "        source_data[\"ICD\"][index] = 'I64'\n",
    "    elif 'I65' in row['report_text']:\n",
    "        print(index)\n",
    "        source_data[\"ICD\"][index] = 'I65'\n",
    "    elif 'I66' in row['report_text']:\n",
    "        print(index)\n",
    "        source_data[\"ICD\"][index] = 'I66'\n",
    "    elif 'I67' in row['report_text']:\n",
    "        print(index)\n",
    "        source_data[\"ICD\"][index] = 'I67'\n",
    "    elif 'I68' in row['report_text']:\n",
    "        print(index)\n",
    "        source_data[\"ICD\"][index] = 'I68'\n",
    "    elif 'I69' in row['report_text']:\n",
    "        print(index)\n",
    "        source_data[\"ICD\"][index] = 'I69'\n",
    "    elif 'S06' in row['report_text']:\n",
    "        print(index)\n",
    "        source_data[\"ICD\"][index] = 'S06'\n",
    "    else:\n",
    "        source_data[\"ICD\"][index] = 'other'"
   ]
  },
  {
   "cell_type": "code",
   "execution_count": 145,
   "metadata": {},
   "outputs": [],
   "source": [
    "source_data = source_data.drop(columns=['report_text'])"
   ]
  },
  {
   "cell_type": "code",
   "execution_count": 148,
   "metadata": {},
   "outputs": [],
   "source": [
    "source_data.to_csv('./output_MR.csv', index=False)"
   ]
  },
  {
   "cell_type": "code",
   "execution_count": null,
   "metadata": {},
   "outputs": [],
   "source": []
  }
 ]
}