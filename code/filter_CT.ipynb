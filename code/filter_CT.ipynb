{
 "metadata": {
  "language_info": {
   "codemirror_mode": {
    "name": "ipython",
    "version": 3
   },
   "file_extension": ".py",
   "mimetype": "text/x-python",
   "name": "python",
   "nbconvert_exporter": "python",
   "pygments_lexer": "ipython3",
   "version": "3.8.3-final"
  },
  "orig_nbformat": 2,
  "kernelspec": {
   "name": "python3",
   "display_name": "Python 3"
  }
 },
 "nbformat": 4,
 "nbformat_minor": 2,
 "cells": [
  {
   "cell_type": "code",
   "execution_count": 1,
   "metadata": {},
   "outputs": [],
   "source": [
    "import pandas as pd \n",
    "import numpy as np "
   ]
  },
  {
   "cell_type": "code",
   "execution_count": 12,
   "metadata": {},
   "outputs": [
    {
     "output_type": "execute_result",
     "data": {
      "text/plain": [
       "        report_uid                                        report_text  \\\n",
       "0     350000019086  衛生福利部臺北醫院放射診斷科  CT報告\\r\\n病歷號碼 : 0001050582     ...   \n",
       "1     350000019094  衛生福利部臺北醫院放射診斷科  CT報告\\r\\n病歷號碼 : 0002020073     ...   \n",
       "2     350000019130  衛生福利部臺北醫院放射診斷科  CT報告\\r\\n病歷號碼 : 0001391506     ...   \n",
       "3     350000019114  衛生福利部臺北醫院放射診斷科  CT報告\\r\\n病歷號碼 : 0001221365     ...   \n",
       "4     350000019113  衛生福利部臺北醫院放射診斷科  CT報告\\r\\n病歷號碼 : 0001019088     ...   \n",
       "...            ...                                                ...   \n",
       "6273  350000025614  衛生福利部臺北醫院放射診斷科  CT報告\\r\\n病歷號碼 : 0000859312     ...   \n",
       "6274  350000025642  衛生福利部臺北醫院放射診斷科  CT報告\\r\\n病歷號碼 : 0002028291     ...   \n",
       "6275  350000025609  衛生福利部臺北醫院放射診斷科  CT報告\\r\\n病歷號碼 : 0002013537     ...   \n",
       "6276  350000025647  衛生福利部臺北醫院放射診斷科  CT報告\\r\\n病歷號碼 : 0001109370     ...   \n",
       "6277  350000025606  衛生福利部臺北醫院放射診斷科  CT報告\\r\\n病歷號碼 : 0000808309     ...   \n",
       "\n",
       "      finish_date ICD order_number  \n",
       "0        20200710       0001050582  \n",
       "1        20200710       0002020073  \n",
       "2        20200711       0001391506  \n",
       "3        20200711       0001221365  \n",
       "4        20200711       0001019088  \n",
       "...           ...  ..          ...  \n",
       "6273     20201005       0000859312  \n",
       "6274     20201005       0002028291  \n",
       "6275     20201005       0002013537  \n",
       "6276     20201005       0001109370  \n",
       "6277     20201005       0000808309  \n",
       "\n",
       "[6278 rows x 5 columns]"
      ],
      "text/html": "<div>\n<style scoped>\n    .dataframe tbody tr th:only-of-type {\n        vertical-align: middle;\n    }\n\n    .dataframe tbody tr th {\n        vertical-align: top;\n    }\n\n    .dataframe thead th {\n        text-align: right;\n    }\n</style>\n<table border=\"1\" class=\"dataframe\">\n  <thead>\n    <tr style=\"text-align: right;\">\n      <th></th>\n      <th>report_uid</th>\n      <th>report_text</th>\n      <th>finish_date</th>\n      <th>ICD</th>\n      <th>order_number</th>\n    </tr>\n  </thead>\n  <tbody>\n    <tr>\n      <th>0</th>\n      <td>350000019086</td>\n      <td>衛生福利部臺北醫院放射診斷科  CT報告\\r\\n病歷號碼 : 0001050582     ...</td>\n      <td>20200710</td>\n      <td></td>\n      <td>0001050582</td>\n    </tr>\n    <tr>\n      <th>1</th>\n      <td>350000019094</td>\n      <td>衛生福利部臺北醫院放射診斷科  CT報告\\r\\n病歷號碼 : 0002020073     ...</td>\n      <td>20200710</td>\n      <td></td>\n      <td>0002020073</td>\n    </tr>\n    <tr>\n      <th>2</th>\n      <td>350000019130</td>\n      <td>衛生福利部臺北醫院放射診斷科  CT報告\\r\\n病歷號碼 : 0001391506     ...</td>\n      <td>20200711</td>\n      <td></td>\n      <td>0001391506</td>\n    </tr>\n    <tr>\n      <th>3</th>\n      <td>350000019114</td>\n      <td>衛生福利部臺北醫院放射診斷科  CT報告\\r\\n病歷號碼 : 0001221365     ...</td>\n      <td>20200711</td>\n      <td></td>\n      <td>0001221365</td>\n    </tr>\n    <tr>\n      <th>4</th>\n      <td>350000019113</td>\n      <td>衛生福利部臺北醫院放射診斷科  CT報告\\r\\n病歷號碼 : 0001019088     ...</td>\n      <td>20200711</td>\n      <td></td>\n      <td>0001019088</td>\n    </tr>\n    <tr>\n      <th>...</th>\n      <td>...</td>\n      <td>...</td>\n      <td>...</td>\n      <td>...</td>\n      <td>...</td>\n    </tr>\n    <tr>\n      <th>6273</th>\n      <td>350000025614</td>\n      <td>衛生福利部臺北醫院放射診斷科  CT報告\\r\\n病歷號碼 : 0000859312     ...</td>\n      <td>20201005</td>\n      <td></td>\n      <td>0000859312</td>\n    </tr>\n    <tr>\n      <th>6274</th>\n      <td>350000025642</td>\n      <td>衛生福利部臺北醫院放射診斷科  CT報告\\r\\n病歷號碼 : 0002028291     ...</td>\n      <td>20201005</td>\n      <td></td>\n      <td>0002028291</td>\n    </tr>\n    <tr>\n      <th>6275</th>\n      <td>350000025609</td>\n      <td>衛生福利部臺北醫院放射診斷科  CT報告\\r\\n病歷號碼 : 0002013537     ...</td>\n      <td>20201005</td>\n      <td></td>\n      <td>0002013537</td>\n    </tr>\n    <tr>\n      <th>6276</th>\n      <td>350000025647</td>\n      <td>衛生福利部臺北醫院放射診斷科  CT報告\\r\\n病歷號碼 : 0001109370     ...</td>\n      <td>20201005</td>\n      <td></td>\n      <td>0001109370</td>\n    </tr>\n    <tr>\n      <th>6277</th>\n      <td>350000025606</td>\n      <td>衛生福利部臺北醫院放射診斷科  CT報告\\r\\n病歷號碼 : 0000808309     ...</td>\n      <td>20201005</td>\n      <td></td>\n      <td>0000808309</td>\n    </tr>\n  </tbody>\n</table>\n<p>6278 rows × 5 columns</p>\n</div>"
     },
     "metadata": {},
     "execution_count": 12
    }
   ],
   "source": [
    "source_data = pd.read_csv(\"./CT_report.csv\")\n",
    "source_data = source_data.drop(columns=['report_html', 'report_image', 'uploaded', 'history', 'finish_time', 'upload_text', 'his2wkl_assign', 'PROC_FLAG', 'assign', 'CHECK1', 'VER1'])\n",
    "source_data['report_uid'] = source_data['report_uid'].str[21:33]\n",
    "source_data['ICD'] = \"\"\n",
    "source_data['order_number'] = source_data['report_text'].str[29:39]\n",
    "source_data"
   ]
  },
  {
   "cell_type": "code",
   "execution_count": 14,
   "metadata": {},
   "outputs": [
    {
     "output_type": "execute_result",
     "data": {
      "text/plain": [
       "        report_uid                                        report_text  \\\n",
       "0     350000019086  衛生福利部臺北醫院放射診斷科  CT報告\\r\\n病歷號碼 : 0001050582     ...   \n",
       "1     350000019094  衛生福利部臺北醫院放射診斷科  CT報告\\r\\n病歷號碼 : 0002020073     ...   \n",
       "2     350000019130  衛生福利部臺北醫院放射診斷科  CT報告\\r\\n病歷號碼 : 0001391506     ...   \n",
       "3     350000019114  衛生福利部臺北醫院放射診斷科  CT報告\\r\\n病歷號碼 : 0001221365     ...   \n",
       "4     350000019113  衛生福利部臺北醫院放射診斷科  CT報告\\r\\n病歷號碼 : 0001019088     ...   \n",
       "...            ...                                                ...   \n",
       "6273  350000025614  衛生福利部臺北醫院放射診斷科  CT報告\\r\\n病歷號碼 : 0000859312     ...   \n",
       "6274  350000025642  衛生福利部臺北醫院放射診斷科  CT報告\\r\\n病歷號碼 : 0002028291     ...   \n",
       "6275  350000025609  衛生福利部臺北醫院放射診斷科  CT報告\\r\\n病歷號碼 : 0002013537     ...   \n",
       "6276  350000025647  衛生福利部臺北醫院放射診斷科  CT報告\\r\\n病歷號碼 : 0001109370     ...   \n",
       "6277  350000025606  衛生福利部臺北醫院放射診斷科  CT報告\\r\\n病歷號碼 : 0000808309     ...   \n",
       "\n",
       "      finish_date    ICD order_number  \n",
       "0        20200710  other   0001050582  \n",
       "1        20200710  other   0002020073  \n",
       "2        20200711  other   0001391506  \n",
       "3        20200711  other   0001221365  \n",
       "4        20200711  other   0001019088  \n",
       "...           ...    ...          ...  \n",
       "6273     20201005  other   0000859312  \n",
       "6274     20201005  other   0002028291  \n",
       "6275     20201005  other   0002013537  \n",
       "6276     20201005  other   0001109370  \n",
       "6277     20201005  other   0000808309  \n",
       "\n",
       "[6278 rows x 5 columns]"
      ],
      "text/html": "<div>\n<style scoped>\n    .dataframe tbody tr th:only-of-type {\n        vertical-align: middle;\n    }\n\n    .dataframe tbody tr th {\n        vertical-align: top;\n    }\n\n    .dataframe thead th {\n        text-align: right;\n    }\n</style>\n<table border=\"1\" class=\"dataframe\">\n  <thead>\n    <tr style=\"text-align: right;\">\n      <th></th>\n      <th>report_uid</th>\n      <th>report_text</th>\n      <th>finish_date</th>\n      <th>ICD</th>\n      <th>order_number</th>\n    </tr>\n  </thead>\n  <tbody>\n    <tr>\n      <th>0</th>\n      <td>350000019086</td>\n      <td>衛生福利部臺北醫院放射診斷科  CT報告\\r\\n病歷號碼 : 0001050582     ...</td>\n      <td>20200710</td>\n      <td>other</td>\n      <td>0001050582</td>\n    </tr>\n    <tr>\n      <th>1</th>\n      <td>350000019094</td>\n      <td>衛生福利部臺北醫院放射診斷科  CT報告\\r\\n病歷號碼 : 0002020073     ...</td>\n      <td>20200710</td>\n      <td>other</td>\n      <td>0002020073</td>\n    </tr>\n    <tr>\n      <th>2</th>\n      <td>350000019130</td>\n      <td>衛生福利部臺北醫院放射診斷科  CT報告\\r\\n病歷號碼 : 0001391506     ...</td>\n      <td>20200711</td>\n      <td>other</td>\n      <td>0001391506</td>\n    </tr>\n    <tr>\n      <th>3</th>\n      <td>350000019114</td>\n      <td>衛生福利部臺北醫院放射診斷科  CT報告\\r\\n病歷號碼 : 0001221365     ...</td>\n      <td>20200711</td>\n      <td>other</td>\n      <td>0001221365</td>\n    </tr>\n    <tr>\n      <th>4</th>\n      <td>350000019113</td>\n      <td>衛生福利部臺北醫院放射診斷科  CT報告\\r\\n病歷號碼 : 0001019088     ...</td>\n      <td>20200711</td>\n      <td>other</td>\n      <td>0001019088</td>\n    </tr>\n    <tr>\n      <th>...</th>\n      <td>...</td>\n      <td>...</td>\n      <td>...</td>\n      <td>...</td>\n      <td>...</td>\n    </tr>\n    <tr>\n      <th>6273</th>\n      <td>350000025614</td>\n      <td>衛生福利部臺北醫院放射診斷科  CT報告\\r\\n病歷號碼 : 0000859312     ...</td>\n      <td>20201005</td>\n      <td>other</td>\n      <td>0000859312</td>\n    </tr>\n    <tr>\n      <th>6274</th>\n      <td>350000025642</td>\n      <td>衛生福利部臺北醫院放射診斷科  CT報告\\r\\n病歷號碼 : 0002028291     ...</td>\n      <td>20201005</td>\n      <td>other</td>\n      <td>0002028291</td>\n    </tr>\n    <tr>\n      <th>6275</th>\n      <td>350000025609</td>\n      <td>衛生福利部臺北醫院放射診斷科  CT報告\\r\\n病歷號碼 : 0002013537     ...</td>\n      <td>20201005</td>\n      <td>other</td>\n      <td>0002013537</td>\n    </tr>\n    <tr>\n      <th>6276</th>\n      <td>350000025647</td>\n      <td>衛生福利部臺北醫院放射診斷科  CT報告\\r\\n病歷號碼 : 0001109370     ...</td>\n      <td>20201005</td>\n      <td>other</td>\n      <td>0001109370</td>\n    </tr>\n    <tr>\n      <th>6277</th>\n      <td>350000025606</td>\n      <td>衛生福利部臺北醫院放射診斷科  CT報告\\r\\n病歷號碼 : 0000808309     ...</td>\n      <td>20201005</td>\n      <td>other</td>\n      <td>0000808309</td>\n    </tr>\n  </tbody>\n</table>\n<p>6278 rows × 5 columns</p>\n</div>"
     },
     "metadata": {},
     "execution_count": 14
    }
   ],
   "source": [
    "for index, row in source_data.iterrows():\n",
    "    if 'I61' in row['report_text']:\n",
    "        source_data[\"ICD\"][index] = 'I61'\n",
    "    elif 'I62' in row['report_text']:\n",
    "        source_data[\"ICD\"][index] = 'I62'\n",
    "    elif 'I63' in row['report_text']:\n",
    "        source_data[\"ICD\"][index] = 'I63'\n",
    "    elif 'I64' in row['report_text']:\n",
    "        source_data[\"ICD\"][index] = 'I64'\n",
    "    elif 'I65' in row['report_text']:\n",
    "        source_data[\"ICD\"][index] = 'I65'\n",
    "    elif 'I66' in row['report_text']:\n",
    "        source_data[\"ICD\"][index] = 'I66'\n",
    "    elif 'I67' in row['report_text']:\n",
    "        source_data[\"ICD\"][index] = 'I67'\n",
    "    elif 'I68' in row['report_text']:\n",
    "        source_data[\"ICD\"][index] = 'I68'\n",
    "    elif 'I69' in row['report_text']:\n",
    "        source_data[\"ICD\"][index] = 'I69'\n",
    "    elif 'S06' in row['report_text']:\n",
    "        source_data[\"ICD\"][index] = 'S06'\n",
    "    elif 'No image evidence of acute infarct, intracranial hemorrhage' in row['report_text']:\n",
    "        source_data[\"ICD\"][index] = 'normal'\n",
    "    elif 'No image evidence of cerebral infarct, intracranial hemorrhage' in row['report_text']:\n",
    "        source_data[\"ICD\"][index] = 'normal'\n",
    "    elif 'No evident space-occupying lesion, infarction and hemorrhage' in row['report_text']:\n",
    "        source_data[\"ICD\"][index] = 'normal'\n",
    "    elif 'No obvious intracranial hemorrhage' in row['report_text']:\n",
    "        source_data[\"ICD\"][index] = 'normal'        \n",
    "    else:\n",
    "        source_data[\"ICD\"][index] = 'other'\n",
    "source_data_CT = source_data\n",
    "source_data_CT"
   ]
  },
  {
   "cell_type": "code",
   "execution_count": 15,
   "metadata": {},
   "outputs": [
    {
     "output_type": "execute_result",
     "data": {
      "text/plain": [
       "        report_uid                                        report_text  \\\n",
       "0     380000004773  衛生福利部臺北醫院放射診斷科  MR報告\\r\\n病歷號碼 : 0002018266     ...   \n",
       "1     380000004799  衛生福利部臺北醫院放射診斷科  MR報告\\r\\n病歷號碼 : 0001542547     ...   \n",
       "2     380000004771  衛生福利部臺北醫院放射診斷科  MR報告\\r\\n病歷號碼 : 0000851482     ...   \n",
       "3     380000004795  衛生福利部臺北醫院放射診斷科  MR報告\\r\\n病歷號碼 : 0000822297     ...   \n",
       "4     380000004794  衛生福利部臺北醫院放射診斷科  MR報告\\r\\n病歷號碼 : 0000486976     ...   \n",
       "...            ...                                                ...   \n",
       "1012  380000006187  衛生福利部臺北醫院放射診斷科  MR報告\\r\\n病歷號碼 : 0001452883     ...   \n",
       "1013  380000006173  衛生福利部臺北醫院放射診斷科  MR報告\\r\\n病歷號碼 : 0000897637     ...   \n",
       "1014  380000006099  衛生福利部臺北醫院放射診斷科  MR報告\\r\\n病歷號碼 : 0000020158     ...   \n",
       "1015  380000006139  衛生福利部臺北醫院放射診斷科  MR報告\\r\\n病歷號碼 : 0000684281     ...   \n",
       "1016  380000005923  衛生福利部臺北醫院放射診斷科  MR報告\\r\\n病歷號碼 : 0000577315     ...   \n",
       "\n",
       "      finish_date ICD order_number  \n",
       "0        20200710       0002018266  \n",
       "1        20200710       0001542547  \n",
       "2        20200710       0000851482  \n",
       "3        20200710       0000822297  \n",
       "4        20200710       0000486976  \n",
       "...           ...  ..          ...  \n",
       "1012     20201002       0001452883  \n",
       "1013     20201002       0000897637  \n",
       "1014     20201002       0000020158  \n",
       "1015     20201003       0000684281  \n",
       "1016     20201004       0000577315  \n",
       "\n",
       "[1017 rows x 5 columns]"
      ],
      "text/html": "<div>\n<style scoped>\n    .dataframe tbody tr th:only-of-type {\n        vertical-align: middle;\n    }\n\n    .dataframe tbody tr th {\n        vertical-align: top;\n    }\n\n    .dataframe thead th {\n        text-align: right;\n    }\n</style>\n<table border=\"1\" class=\"dataframe\">\n  <thead>\n    <tr style=\"text-align: right;\">\n      <th></th>\n      <th>report_uid</th>\n      <th>report_text</th>\n      <th>finish_date</th>\n      <th>ICD</th>\n      <th>order_number</th>\n    </tr>\n  </thead>\n  <tbody>\n    <tr>\n      <th>0</th>\n      <td>380000004773</td>\n      <td>衛生福利部臺北醫院放射診斷科  MR報告\\r\\n病歷號碼 : 0002018266     ...</td>\n      <td>20200710</td>\n      <td></td>\n      <td>0002018266</td>\n    </tr>\n    <tr>\n      <th>1</th>\n      <td>380000004799</td>\n      <td>衛生福利部臺北醫院放射診斷科  MR報告\\r\\n病歷號碼 : 0001542547     ...</td>\n      <td>20200710</td>\n      <td></td>\n      <td>0001542547</td>\n    </tr>\n    <tr>\n      <th>2</th>\n      <td>380000004771</td>\n      <td>衛生福利部臺北醫院放射診斷科  MR報告\\r\\n病歷號碼 : 0000851482     ...</td>\n      <td>20200710</td>\n      <td></td>\n      <td>0000851482</td>\n    </tr>\n    <tr>\n      <th>3</th>\n      <td>380000004795</td>\n      <td>衛生福利部臺北醫院放射診斷科  MR報告\\r\\n病歷號碼 : 0000822297     ...</td>\n      <td>20200710</td>\n      <td></td>\n      <td>0000822297</td>\n    </tr>\n    <tr>\n      <th>4</th>\n      <td>380000004794</td>\n      <td>衛生福利部臺北醫院放射診斷科  MR報告\\r\\n病歷號碼 : 0000486976     ...</td>\n      <td>20200710</td>\n      <td></td>\n      <td>0000486976</td>\n    </tr>\n    <tr>\n      <th>...</th>\n      <td>...</td>\n      <td>...</td>\n      <td>...</td>\n      <td>...</td>\n      <td>...</td>\n    </tr>\n    <tr>\n      <th>1012</th>\n      <td>380000006187</td>\n      <td>衛生福利部臺北醫院放射診斷科  MR報告\\r\\n病歷號碼 : 0001452883     ...</td>\n      <td>20201002</td>\n      <td></td>\n      <td>0001452883</td>\n    </tr>\n    <tr>\n      <th>1013</th>\n      <td>380000006173</td>\n      <td>衛生福利部臺北醫院放射診斷科  MR報告\\r\\n病歷號碼 : 0000897637     ...</td>\n      <td>20201002</td>\n      <td></td>\n      <td>0000897637</td>\n    </tr>\n    <tr>\n      <th>1014</th>\n      <td>380000006099</td>\n      <td>衛生福利部臺北醫院放射診斷科  MR報告\\r\\n病歷號碼 : 0000020158     ...</td>\n      <td>20201002</td>\n      <td></td>\n      <td>0000020158</td>\n    </tr>\n    <tr>\n      <th>1015</th>\n      <td>380000006139</td>\n      <td>衛生福利部臺北醫院放射診斷科  MR報告\\r\\n病歷號碼 : 0000684281     ...</td>\n      <td>20201003</td>\n      <td></td>\n      <td>0000684281</td>\n    </tr>\n    <tr>\n      <th>1016</th>\n      <td>380000005923</td>\n      <td>衛生福利部臺北醫院放射診斷科  MR報告\\r\\n病歷號碼 : 0000577315     ...</td>\n      <td>20201004</td>\n      <td></td>\n      <td>0000577315</td>\n    </tr>\n  </tbody>\n</table>\n<p>1017 rows × 5 columns</p>\n</div>"
     },
     "metadata": {},
     "execution_count": 15
    }
   ],
   "source": [
    "source_data = pd.read_csv(\"./MR_report.csv\")\n",
    "source_data = source_data.drop(columns=['report_html', 'report_image', 'uploaded', 'history', 'finish_time', 'upload_text', 'his2wkl_assign', 'PROC_FLAG', 'assign', 'CHECK1', 'VER1'])\n",
    "source_data['report_uid'] = source_data['report_uid'].str[21:33]\n",
    "source_data['ICD'] = \"\"\n",
    "source_data['order_number'] = source_data['report_text'].str[29:39]\n",
    "source_data"
   ]
  },
  {
   "cell_type": "code",
   "execution_count": 16,
   "metadata": {},
   "outputs": [
    {
     "output_type": "execute_result",
     "data": {
      "text/plain": [
       "        report_uid                                        report_text  \\\n",
       "0     380000004773  衛生福利部臺北醫院放射診斷科  MR報告\\r\\n病歷號碼 : 0002018266     ...   \n",
       "1     380000004799  衛生福利部臺北醫院放射診斷科  MR報告\\r\\n病歷號碼 : 0001542547     ...   \n",
       "2     380000004771  衛生福利部臺北醫院放射診斷科  MR報告\\r\\n病歷號碼 : 0000851482     ...   \n",
       "3     380000004795  衛生福利部臺北醫院放射診斷科  MR報告\\r\\n病歷號碼 : 0000822297     ...   \n",
       "4     380000004794  衛生福利部臺北醫院放射診斷科  MR報告\\r\\n病歷號碼 : 0000486976     ...   \n",
       "...            ...                                                ...   \n",
       "1012  380000006187  衛生福利部臺北醫院放射診斷科  MR報告\\r\\n病歷號碼 : 0001452883     ...   \n",
       "1013  380000006173  衛生福利部臺北醫院放射診斷科  MR報告\\r\\n病歷號碼 : 0000897637     ...   \n",
       "1014  380000006099  衛生福利部臺北醫院放射診斷科  MR報告\\r\\n病歷號碼 : 0000020158     ...   \n",
       "1015  380000006139  衛生福利部臺北醫院放射診斷科  MR報告\\r\\n病歷號碼 : 0000684281     ...   \n",
       "1016  380000005923  衛生福利部臺北醫院放射診斷科  MR報告\\r\\n病歷號碼 : 0000577315     ...   \n",
       "\n",
       "      finish_date     ICD order_number  \n",
       "0        20200710   other   0002018266  \n",
       "1        20200710     I67   0001542547  \n",
       "2        20200710  normal   0000851482  \n",
       "3        20200710  normal   0000822297  \n",
       "4        20200710     I67   0000486976  \n",
       "...           ...     ...          ...  \n",
       "1012     20201002     I67   0001452883  \n",
       "1013     20201002  normal   0000897637  \n",
       "1014     20201002  normal   0000020158  \n",
       "1015     20201003  normal   0000684281  \n",
       "1016     20201004   other   0000577315  \n",
       "\n",
       "[1017 rows x 5 columns]"
      ],
      "text/html": "<div>\n<style scoped>\n    .dataframe tbody tr th:only-of-type {\n        vertical-align: middle;\n    }\n\n    .dataframe tbody tr th {\n        vertical-align: top;\n    }\n\n    .dataframe thead th {\n        text-align: right;\n    }\n</style>\n<table border=\"1\" class=\"dataframe\">\n  <thead>\n    <tr style=\"text-align: right;\">\n      <th></th>\n      <th>report_uid</th>\n      <th>report_text</th>\n      <th>finish_date</th>\n      <th>ICD</th>\n      <th>order_number</th>\n    </tr>\n  </thead>\n  <tbody>\n    <tr>\n      <th>0</th>\n      <td>380000004773</td>\n      <td>衛生福利部臺北醫院放射診斷科  MR報告\\r\\n病歷號碼 : 0002018266     ...</td>\n      <td>20200710</td>\n      <td>other</td>\n      <td>0002018266</td>\n    </tr>\n    <tr>\n      <th>1</th>\n      <td>380000004799</td>\n      <td>衛生福利部臺北醫院放射診斷科  MR報告\\r\\n病歷號碼 : 0001542547     ...</td>\n      <td>20200710</td>\n      <td>I67</td>\n      <td>0001542547</td>\n    </tr>\n    <tr>\n      <th>2</th>\n      <td>380000004771</td>\n      <td>衛生福利部臺北醫院放射診斷科  MR報告\\r\\n病歷號碼 : 0000851482     ...</td>\n      <td>20200710</td>\n      <td>normal</td>\n      <td>0000851482</td>\n    </tr>\n    <tr>\n      <th>3</th>\n      <td>380000004795</td>\n      <td>衛生福利部臺北醫院放射診斷科  MR報告\\r\\n病歷號碼 : 0000822297     ...</td>\n      <td>20200710</td>\n      <td>normal</td>\n      <td>0000822297</td>\n    </tr>\n    <tr>\n      <th>4</th>\n      <td>380000004794</td>\n      <td>衛生福利部臺北醫院放射診斷科  MR報告\\r\\n病歷號碼 : 0000486976     ...</td>\n      <td>20200710</td>\n      <td>I67</td>\n      <td>0000486976</td>\n    </tr>\n    <tr>\n      <th>...</th>\n      <td>...</td>\n      <td>...</td>\n      <td>...</td>\n      <td>...</td>\n      <td>...</td>\n    </tr>\n    <tr>\n      <th>1012</th>\n      <td>380000006187</td>\n      <td>衛生福利部臺北醫院放射診斷科  MR報告\\r\\n病歷號碼 : 0001452883     ...</td>\n      <td>20201002</td>\n      <td>I67</td>\n      <td>0001452883</td>\n    </tr>\n    <tr>\n      <th>1013</th>\n      <td>380000006173</td>\n      <td>衛生福利部臺北醫院放射診斷科  MR報告\\r\\n病歷號碼 : 0000897637     ...</td>\n      <td>20201002</td>\n      <td>normal</td>\n      <td>0000897637</td>\n    </tr>\n    <tr>\n      <th>1014</th>\n      <td>380000006099</td>\n      <td>衛生福利部臺北醫院放射診斷科  MR報告\\r\\n病歷號碼 : 0000020158     ...</td>\n      <td>20201002</td>\n      <td>normal</td>\n      <td>0000020158</td>\n    </tr>\n    <tr>\n      <th>1015</th>\n      <td>380000006139</td>\n      <td>衛生福利部臺北醫院放射診斷科  MR報告\\r\\n病歷號碼 : 0000684281     ...</td>\n      <td>20201003</td>\n      <td>normal</td>\n      <td>0000684281</td>\n    </tr>\n    <tr>\n      <th>1016</th>\n      <td>380000005923</td>\n      <td>衛生福利部臺北醫院放射診斷科  MR報告\\r\\n病歷號碼 : 0000577315     ...</td>\n      <td>20201004</td>\n      <td>other</td>\n      <td>0000577315</td>\n    </tr>\n  </tbody>\n</table>\n<p>1017 rows × 5 columns</p>\n</div>"
     },
     "metadata": {},
     "execution_count": 16
    }
   ],
   "source": [
    "for index, row in source_data.iterrows():\n",
    "    if 'I61' in row['report_text']:\n",
    "        source_data[\"ICD\"][index] = 'I61'\n",
    "    elif 'I62' in row['report_text']:\n",
    "        source_data[\"ICD\"][index] = 'I62'\n",
    "    elif 'I63' in row['report_text']:\n",
    "        source_data[\"ICD\"][index] = 'I63'\n",
    "    elif 'I64' in row['report_text']:\n",
    "        source_data[\"ICD\"][index] = 'I64'\n",
    "    elif 'I65' in row['report_text']:\n",
    "        source_data[\"ICD\"][index] = 'I65'\n",
    "    elif 'I66' in row['report_text']:\n",
    "        source_data[\"ICD\"][index] = 'I66'\n",
    "    elif 'I67' in row['report_text']:\n",
    "        source_data[\"ICD\"][index] = 'I67'\n",
    "    elif 'I68' in row['report_text']:\n",
    "        source_data[\"ICD\"][index] = 'I68'\n",
    "    elif 'I69' in row['report_text']:\n",
    "        source_data[\"ICD\"][index] = 'I69'\n",
    "    elif 'S06' in row['report_text']:\n",
    "        source_data[\"ICD\"][index] = 'S06'\n",
    "    elif 'No image evidence of acute infarct, intracranial hemorrhage' in row['report_text']:\n",
    "        source_data[\"ICD\"][index] = 'normal'\n",
    "    elif 'No image evidence of cerebral infarct, intracranial hemorrhage' in row['report_text']:\n",
    "        source_data[\"ICD\"][index] = 'normal'\n",
    "    elif 'No evident space-occupying lesion, infarction and hemorrhage' in row['report_text']:\n",
    "        source_data[\"ICD\"][index] = 'normal'\n",
    "    elif 'No obvious intracranial hemorrhage' in row['report_text']:\n",
    "        source_data[\"ICD\"][index] = 'normal'        \n",
    "    else:\n",
    "        source_data[\"ICD\"][index] = 'other'\n",
    "source_data_MR = source_data\n",
    "source_data_MR"
   ]
  },
  {
   "cell_type": "code",
   "execution_count": 18,
   "metadata": {},
   "outputs": [
    {
     "output_type": "execute_result",
     "data": {
      "text/plain": [
       "      report_uid_x                                      report_text_x  \\\n",
       "0     380000004773  衛生福利部臺北醫院放射診斷科  MR報告\\r\\n病歷號碼 : 0002018266     ...   \n",
       "1     380000004799  衛生福利部臺北醫院放射診斷科  MR報告\\r\\n病歷號碼 : 0001542547     ...   \n",
       "2     380000004771  衛生福利部臺北醫院放射診斷科  MR報告\\r\\n病歷號碼 : 0000851482     ...   \n",
       "3     380000004795  衛生福利部臺北醫院放射診斷科  MR報告\\r\\n病歷號碼 : 0000822297     ...   \n",
       "4     380000004794  衛生福利部臺北醫院放射診斷科  MR報告\\r\\n病歷號碼 : 0000486976     ...   \n",
       "...            ...                                                ...   \n",
       "1286  380000006187  衛生福利部臺北醫院放射診斷科  MR報告\\r\\n病歷號碼 : 0001452883     ...   \n",
       "1287  380000006173  衛生福利部臺北醫院放射診斷科  MR報告\\r\\n病歷號碼 : 0000897637     ...   \n",
       "1288  380000006099  衛生福利部臺北醫院放射診斷科  MR報告\\r\\n病歷號碼 : 0000020158     ...   \n",
       "1289  380000006139  衛生福利部臺北醫院放射診斷科  MR報告\\r\\n病歷號碼 : 0000684281     ...   \n",
       "1290  380000005923  衛生福利部臺北醫院放射診斷科  MR報告\\r\\n病歷號碼 : 0000577315     ...   \n",
       "\n",
       "      finish_date_x   ICD_x order_number  report_uid_y  \\\n",
       "0          20200710   other   0002018266  350000017751   \n",
       "1          20200710     I67   0001542547  350000018789   \n",
       "2          20200710  normal   0000851482  350000018707   \n",
       "3          20200710  normal   0000822297  350000018761   \n",
       "4          20200710     I67   0000486976  350000018643   \n",
       "...             ...     ...          ...           ...   \n",
       "1286       20201002     I67   0001452883  350000025406   \n",
       "1287       20201002  normal   0000897637           NaN   \n",
       "1288       20201002  normal   0000020158           NaN   \n",
       "1289       20201003  normal   0000684281           NaN   \n",
       "1290       20201004   other   0000577315  350000010941   \n",
       "\n",
       "                                          report_text_y  finish_date_y  ICD_y  \n",
       "0     衛生福利部臺北醫院放射診斷科  CT報告\\r\\n病歷號碼 : 0002018266     ...     20200623.0  other  \n",
       "1     衛生福利部臺北醫院放射診斷科  CT報告\\r\\n病歷號碼 : 0001542547     ...     20200707.0  other  \n",
       "2     衛生福利部臺北醫院放射診斷科  CT報告\\r\\n病歷號碼 : 0000851482     ...     20200706.0  other  \n",
       "3     衛生福利部臺北醫院放射診斷科  CT報告\\r\\n病歷號碼 : 0000822297     ...     20200706.0  other  \n",
       "4     衛生福利部臺北醫院放射診斷科  CT報告\\r\\n病歷號碼 : 0000486976     ...     20200704.0  other  \n",
       "...                                                 ...            ...    ...  \n",
       "1286  衛生福利部臺北醫院放射診斷科  CT報告\\r\\n病歷號碼 : 0001452883     ...     20201002.0  other  \n",
       "1287                                                NaN            NaN    NaN  \n",
       "1288                                                NaN            NaN    NaN  \n",
       "1289                                                NaN            NaN    NaN  \n",
       "1290  衛生福利部臺北醫院放射診斷科  CT報告\\r\\n病歷號碼 : 0000577315     ...     20200307.0  other  \n",
       "\n",
       "[1291 rows x 9 columns]"
      ],
      "text/html": "<div>\n<style scoped>\n    .dataframe tbody tr th:only-of-type {\n        vertical-align: middle;\n    }\n\n    .dataframe tbody tr th {\n        vertical-align: top;\n    }\n\n    .dataframe thead th {\n        text-align: right;\n    }\n</style>\n<table border=\"1\" class=\"dataframe\">\n  <thead>\n    <tr style=\"text-align: right;\">\n      <th></th>\n      <th>report_uid_x</th>\n      <th>report_text_x</th>\n      <th>finish_date_x</th>\n      <th>ICD_x</th>\n      <th>order_number</th>\n      <th>report_uid_y</th>\n      <th>report_text_y</th>\n      <th>finish_date_y</th>\n      <th>ICD_y</th>\n    </tr>\n  </thead>\n  <tbody>\n    <tr>\n      <th>0</th>\n      <td>380000004773</td>\n      <td>衛生福利部臺北醫院放射診斷科  MR報告\\r\\n病歷號碼 : 0002018266     ...</td>\n      <td>20200710</td>\n      <td>other</td>\n      <td>0002018266</td>\n      <td>350000017751</td>\n      <td>衛生福利部臺北醫院放射診斷科  CT報告\\r\\n病歷號碼 : 0002018266     ...</td>\n      <td>20200623.0</td>\n      <td>other</td>\n    </tr>\n    <tr>\n      <th>1</th>\n      <td>380000004799</td>\n      <td>衛生福利部臺北醫院放射診斷科  MR報告\\r\\n病歷號碼 : 0001542547     ...</td>\n      <td>20200710</td>\n      <td>I67</td>\n      <td>0001542547</td>\n      <td>350000018789</td>\n      <td>衛生福利部臺北醫院放射診斷科  CT報告\\r\\n病歷號碼 : 0001542547     ...</td>\n      <td>20200707.0</td>\n      <td>other</td>\n    </tr>\n    <tr>\n      <th>2</th>\n      <td>380000004771</td>\n      <td>衛生福利部臺北醫院放射診斷科  MR報告\\r\\n病歷號碼 : 0000851482     ...</td>\n      <td>20200710</td>\n      <td>normal</td>\n      <td>0000851482</td>\n      <td>350000018707</td>\n      <td>衛生福利部臺北醫院放射診斷科  CT報告\\r\\n病歷號碼 : 0000851482     ...</td>\n      <td>20200706.0</td>\n      <td>other</td>\n    </tr>\n    <tr>\n      <th>3</th>\n      <td>380000004795</td>\n      <td>衛生福利部臺北醫院放射診斷科  MR報告\\r\\n病歷號碼 : 0000822297     ...</td>\n      <td>20200710</td>\n      <td>normal</td>\n      <td>0000822297</td>\n      <td>350000018761</td>\n      <td>衛生福利部臺北醫院放射診斷科  CT報告\\r\\n病歷號碼 : 0000822297     ...</td>\n      <td>20200706.0</td>\n      <td>other</td>\n    </tr>\n    <tr>\n      <th>4</th>\n      <td>380000004794</td>\n      <td>衛生福利部臺北醫院放射診斷科  MR報告\\r\\n病歷號碼 : 0000486976     ...</td>\n      <td>20200710</td>\n      <td>I67</td>\n      <td>0000486976</td>\n      <td>350000018643</td>\n      <td>衛生福利部臺北醫院放射診斷科  CT報告\\r\\n病歷號碼 : 0000486976     ...</td>\n      <td>20200704.0</td>\n      <td>other</td>\n    </tr>\n    <tr>\n      <th>...</th>\n      <td>...</td>\n      <td>...</td>\n      <td>...</td>\n      <td>...</td>\n      <td>...</td>\n      <td>...</td>\n      <td>...</td>\n      <td>...</td>\n      <td>...</td>\n    </tr>\n    <tr>\n      <th>1286</th>\n      <td>380000006187</td>\n      <td>衛生福利部臺北醫院放射診斷科  MR報告\\r\\n病歷號碼 : 0001452883     ...</td>\n      <td>20201002</td>\n      <td>I67</td>\n      <td>0001452883</td>\n      <td>350000025406</td>\n      <td>衛生福利部臺北醫院放射診斷科  CT報告\\r\\n病歷號碼 : 0001452883     ...</td>\n      <td>20201002.0</td>\n      <td>other</td>\n    </tr>\n    <tr>\n      <th>1287</th>\n      <td>380000006173</td>\n      <td>衛生福利部臺北醫院放射診斷科  MR報告\\r\\n病歷號碼 : 0000897637     ...</td>\n      <td>20201002</td>\n      <td>normal</td>\n      <td>0000897637</td>\n      <td>NaN</td>\n      <td>NaN</td>\n      <td>NaN</td>\n      <td>NaN</td>\n    </tr>\n    <tr>\n      <th>1288</th>\n      <td>380000006099</td>\n      <td>衛生福利部臺北醫院放射診斷科  MR報告\\r\\n病歷號碼 : 0000020158     ...</td>\n      <td>20201002</td>\n      <td>normal</td>\n      <td>0000020158</td>\n      <td>NaN</td>\n      <td>NaN</td>\n      <td>NaN</td>\n      <td>NaN</td>\n    </tr>\n    <tr>\n      <th>1289</th>\n      <td>380000006139</td>\n      <td>衛生福利部臺北醫院放射診斷科  MR報告\\r\\n病歷號碼 : 0000684281     ...</td>\n      <td>20201003</td>\n      <td>normal</td>\n      <td>0000684281</td>\n      <td>NaN</td>\n      <td>NaN</td>\n      <td>NaN</td>\n      <td>NaN</td>\n    </tr>\n    <tr>\n      <th>1290</th>\n      <td>380000005923</td>\n      <td>衛生福利部臺北醫院放射診斷科  MR報告\\r\\n病歷號碼 : 0000577315     ...</td>\n      <td>20201004</td>\n      <td>other</td>\n      <td>0000577315</td>\n      <td>350000010941</td>\n      <td>衛生福利部臺北醫院放射診斷科  CT報告\\r\\n病歷號碼 : 0000577315     ...</td>\n      <td>20200307.0</td>\n      <td>other</td>\n    </tr>\n  </tbody>\n</table>\n<p>1291 rows × 9 columns</p>\n</div>"
     },
     "metadata": {},
     "execution_count": 18
    }
   ],
   "source": [
    "source_data_merge = source_data_MR\n",
    "source_data_merge = source_data_merge.merge(source_data_CT,on = 'order_number',how = 'left')\n",
    "source_data_merge"
   ]
  },
  {
   "cell_type": "code",
   "execution_count": 20,
   "metadata": {},
   "outputs": [],
   "source": [
    "source_data_merge.to_csv('./output_merge.csv', index=False)"
   ]
  },
  {
   "cell_type": "code",
   "execution_count": null,
   "metadata": {},
   "outputs": [],
   "source": []
  }
 ]
}